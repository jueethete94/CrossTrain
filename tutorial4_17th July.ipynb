{
 "cells": [
  {
   "cell_type": "code",
   "execution_count": 5,
   "metadata": {},
   "outputs": [
    {
     "name": "stdout",
     "output_type": "stream",
     "text": [
      "2 97\n"
     ]
    }
   ],
   "source": [
    "l=[2,5,97,64,96,63,74,82]\n",
    "max_value=l[0]\n",
    "min_value=l[0]\n",
    "for i in l:\n",
    "    if max_value>i:\n",
    "        max_value=i\n",
    "    if min_value<i:\n",
    "        min_value=i\n",
    "print(max_value,min_value)        \n",
    "\n",
    "        \n"
   ]
  },
  {
   "cell_type": "code",
   "execution_count": 22,
   "metadata": {},
   "outputs": [
    {
     "name": "stdout",
     "output_type": "stream",
     "text": [
      "[1, 1.5, 0.75, 1.375]\n",
      "[27, 13, 6, 3, 1]\n",
      "[True, False, True]\n"
     ]
    }
   ],
   "source": [
    "n = 27\n",
    "Q=[n]\n",
    "R=[]\n",
    "check=[]\n",
    "for i in Q:\n",
    "    q=n/2    \n",
    "    r=n%2\n",
    "    n=q\n",
    "    if n<1:\n",
    "        break\n",
    "    c = True\n",
    "    if r>1:\n",
    "        check.append(c)\n",
    "    c=False\n",
    "    if r<1:\n",
    "        check.append(c)    \n",
    "    Q.append(int(q))\n",
    "    R.append(r)\n",
    "print(R)\n",
    "print(Q)\n",
    "print(check)\n",
    "        \n",
    "    "
   ]
  },
  {
   "cell_type": "code",
   "execution_count": null,
   "metadata": {},
   "outputs": [],
   "source": [
    "n=27.375\n",
    "base=2\n"
   ]
  },
  {
   "cell_type": "code",
   "execution_count": 111,
   "metadata": {},
   "outputs": [
    {
     "name": "stdout",
     "output_type": "stream",
     "text": [
      "4\n",
      "0.33199999999999985\n"
     ]
    }
   ],
   "source": [
    "x=4.332\n",
    "print(int(x/1))\n",
    "print(float(x%1))"
   ]
  },
  {
   "cell_type": "code",
   "execution_count": 158,
   "metadata": {},
   "outputs": [
    {
     "name": "stdout",
     "output_type": "stream",
     "text": [
      "0.15\n",
      "[0, 0, 1, 0, 0, 1, 1, 0, 0, 1, 1, 0, 0, 1, 1, 0, 0, 1, 1, 0, 0, 1, 1, 0, 0, 1, 1, 0, 0, 1, 1, 0, 0, 1, 1, 0, 0, 1, 1, 0, 0, 1, 1, 0, 0, 1, 1, 0, 0, 1, 1, 0, 0, 1, 1]\n"
     ]
    }
   ],
   "source": [
    "n=0.15\n",
    "base=2\n",
    "if int(n):\n",
    "    d=n%int(n)\n",
    "else:\n",
    "    d=n\n",
    "print(d)\n",
    "\n",
    "r=[]\n",
    "while(d!=0):\n",
    "    ans=d*base\n",
    "    bit=int(ans)\n",
    "    r.append(bit)\n",
    "    if bit:\n",
    "        d=ans-1\n",
    "    else:\n",
    "        d=ans\n",
    "print(r)"
   ]
  },
  {
   "cell_type": "code",
   "execution_count": null,
   "metadata": {},
   "outputs": [],
   "source": []
  },
  {
   "cell_type": "code",
   "execution_count": 131,
   "metadata": {},
   "outputs": [
    {
     "data": {
      "text/plain": [
       "0.375"
      ]
     },
     "execution_count": 131,
     "metadata": {},
     "output_type": "execute_result"
    }
   ],
   "source": [
    "n=0.375\n",
    "d=n%int(n+1)\n",
    "d"
   ]
  },
  {
   "cell_type": "code",
   "execution_count": null,
   "metadata": {},
   "outputs": [],
   "source": []
  },
  {
   "cell_type": "code",
   "execution_count": 104,
   "metadata": {},
   "outputs": [
    {
     "name": "stdout",
     "output_type": "stream",
     "text": [
      "[1, 1, 1, 1]\n"
     ]
    }
   ],
   "source": [
    "num=0.375\n",
    "base=2\n",
    "Rem=[]\n",
    "rem=0\n",
    "while(rem!=1):\n",
    "    ans=num*base\n",
    "    rem=1-ans\n",
    "    if rem>1:\n",
    "        num=ans\n",
    "        Rem.append(0)\n",
    "    elif rem<1:\n",
    "        num=1-ans\n",
    "        Rem.append(1)\n",
    "    else:\n",
    "        Rem.append(1)\n",
    "print(Rem)\n",
    "\n",
    "\n",
    "\n",
    "    \n",
    "    "
   ]
  },
  {
   "cell_type": "code",
   "execution_count": null,
   "metadata": {},
   "outputs": [],
   "source": []
  },
  {
   "cell_type": "code",
   "execution_count": null,
   "metadata": {},
   "outputs": [],
   "source": [
    "num=0.375\n",
    "base=2\n",
    "\n",
    "while(num!=0):\n",
    "    ans=num*base\n",
    "print(ans)"
   ]
  },
  {
   "cell_type": "code",
   "execution_count": 10,
   "metadata": {},
   "outputs": [
    {
     "data": {
      "text/plain": [
       "True"
      ]
     },
     "execution_count": 10,
     "metadata": {},
     "output_type": "execute_result"
    }
   ],
   "source": []
  },
  {
   "cell_type": "code",
   "execution_count": 14,
   "metadata": {},
   "outputs": [
    {
     "data": {
      "text/plain": [
       "[3.375]"
      ]
     },
     "execution_count": 14,
     "metadata": {},
     "output_type": "execute_result"
    }
   ],
   "source": [
    "Q=[]\n",
    "if n>0:\n",
    "    n=q\n",
    "    q=n/2\n",
    "    Q.append(q)\n",
    "Q"
   ]
  },
  {
   "cell_type": "code",
   "execution_count": null,
   "metadata": {},
   "outputs": [],
   "source": []
  },
  {
   "cell_type": "code",
   "execution_count": null,
   "metadata": {},
   "outputs": [],
   "source": []
  }
 ],
 "metadata": {
  "kernelspec": {
   "display_name": "Python 3",
   "language": "python",
   "name": "python3"
  },
  "language_info": {
   "codemirror_mode": {
    "name": "ipython",
    "version": 3
   },
   "file_extension": ".py",
   "mimetype": "text/x-python",
   "name": "python",
   "nbconvert_exporter": "python",
   "pygments_lexer": "ipython3",
   "version": "3.8.5"
  }
 },
 "nbformat": 4,
 "nbformat_minor": 4
}
